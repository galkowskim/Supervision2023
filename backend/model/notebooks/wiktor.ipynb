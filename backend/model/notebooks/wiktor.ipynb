{
 "cells": [
  {
   "cell_type": "code",
   "execution_count": 353,
   "metadata": {},
   "outputs": [],
   "source": [
    "import numpy as np\n",
    "import pandas as pd\n",
    "import sys\n",
    "import re\n",
    "sys.path.append('..')\n",
    "import preprocessing.preprocessor\n",
    "import importlib\n",
    "importlib.reload(preprocessing.preprocessor)\n",
    "from preprocessing.preprocessor import Preprocessor"
   ]
  },
  {
   "cell_type": "code",
   "execution_count": 277,
   "metadata": {},
   "outputs": [],
   "source": [
    "def load_data_txt(abolute_file_path: str, sep: str, encoding: str = \"utf-8\"):\n",
    "    result = []\n",
    "    ad = []\n",
    "    with open(abolute_file_path, encoding=encoding) as file:\n",
    "        for line in file:\n",
    "            if line == sep:\n",
    "                result.append(ad)\n",
    "                ad = []\n",
    "            else:\n",
    "                ad.append(line)\n",
    "    return result\n"
   ]
  },
  {
   "cell_type": "code",
   "execution_count": 69,
   "metadata": {},
   "outputs": [],
   "source": [
    "positive = []\n",
    "negative = []\n",
    "\n",
    "\n",
    "with open('../data/advertisment_negative.txt', encoding='utf-8') as file:\n",
    "    for line in file:\n",
    "        if line == \"***\\n\":\n",
    "            negative.append(ad)\n",
    "            ad = []\n",
    "        else:\n",
    "            ad.append(line)\n"
   ]
  },
  {
   "cell_type": "code",
   "execution_count": 279,
   "metadata": {},
   "outputs": [],
   "source": [
    "df_positive = pd.DataFrame({'text': load_data_txt('../data/advertisment_positive.txt', sep=\"***\\n\", encoding='utf-8')})\n",
    "df_negative = pd.DataFrame({'text': load_data_txt('../data/advertisment_negative.txt', sep=\"***\\n\", encoding='utf-8')})"
   ]
  },
  {
   "cell_type": "code",
   "execution_count": 78,
   "metadata": {},
   "outputs": [],
   "source": [
    "pd.set_option('max_colwidth', 1000)"
   ]
  },
  {
   "cell_type": "code",
   "execution_count": 101,
   "metadata": {},
   "outputs": [],
   "source": [
    "df = pd.read_csv('./../data/exampleOlxData.csv')"
   ]
  },
  {
   "cell_type": "code",
   "execution_count": 257,
   "metadata": {},
   "outputs": [],
   "source": [
    "df_positive['text'] = df_positive['text'].apply(lambda str_list: \" \".join(str_list))\n",
    "df_negative['text'] = df_negative['text'].apply(lambda str_list: \" \".join(str_list))"
   ]
  },
  {
   "cell_type": "code",
   "execution_count": 258,
   "metadata": {},
   "outputs": [],
   "source": [
    "df_negative['account_created_on'] = '12-01-2023'\n",
    "df_negative['post_upload_on'] = '12-01-2023'"
   ]
  },
  {
   "cell_type": "code",
   "execution_count": null,
   "metadata": {},
   "outputs": [],
   "source": [
    "##PIPELINE"
   ]
  },
  {
   "cell_type": "code",
   "execution_count": 259,
   "metadata": {},
   "outputs": [],
   "source": [
    "preprocessor = Preprocessor(df_negative, '../data/stop_words_polish.txt')"
   ]
  },
  {
   "cell_type": "code",
   "execution_count": 260,
   "metadata": {},
   "outputs": [],
   "source": [
    "preprocessor.preprocess_data('text', 'account_created_on', 'post_upload_on')\n",
    "df_negative_preprocessed = preprocessor.df"
   ]
  },
  {
   "cell_type": "code",
   "execution_count": 261,
   "metadata": {},
   "outputs": [],
   "source": [
    "fe_dict = {'sprzedac': ['sprzedać'], \n",
    "          'kupic':['kupić'],\n",
    "          'konto':['konto'],\n",
    "          'bankowy':['bankowy'],\n",
    "          'bankowosc': ['bankowość'],\n",
    "          'zalozenie_konta':['zapłaca','założeć'],\n",
    "          'komornik':['komornik'],\n",
    "          'udostepnia':['udostępnia'],\n",
    "          'finanse': ['finanse'],\n",
    "          'ryzyko': ['ryzyko'],\n",
    "        'bezpieczny':['bezpieczny'],\n",
    "        'przelew': ['przelew'],\n",
    "        'procent': ['procent'],\n",
    "        'kwota': ['kwota'],\n",
    "      'krypto': ['krypto'],\n",
    "      'kryptowaluta': ['kryptowaluta'],\n",
    "      'slupa':['słupa'],\n",
    "      'slup':['słup'],\n",
    "      'tylko': ['tylko'],\n",
    "      'szybko': ['szybko'],\n",
    "      'zysk': ['zysk'],\n",
    "      'przelew':['przelew'],\n",
    "      'dane':['dane'],\n",
    "      'rozny_bank':['różny','bank'],\n",
    "      'prowizja':['prowizja'],\n",
    "    'otworzyc':['otworzyć'],\n",
    "    'zajecie_komornicze':['zajęć','komornicz'],\n",
    "    'oferta_ograniczona':['oferta','ograniczyć'],\n",
    "    'zakladane_w_oddziale':['zakładać','oddział'],\n",
    "   'brak_blokad':['brak','blokad'],\n",
    "   'brak_limitu':['limit'],\n",
    "   'dokumenty_bankowe':['dokument','bank'],\n",
    "   'umowa':['umowa'],\n",
    "  'karta': 'karta',\n",
    "  'sim': ['sim'],\n",
    "  'kaucja': ['kaucja'],\n",
    "  'opłata': ['opłata'],\n",
    "   'skan_dowodu':['skan','dowód'],\n",
    "   'dluga_wspolpraca':['długi','współpraca'],\n",
    "  'zbudowac_zaufanie':['zbudować','zaufanie'],\n",
    " 'gwarancja':['gwarancja'],\n",
    " 'legalny':['legalny'],\n",
    " 'pożyczka': ['pożyczka'],\n",
    " 'powazna_propozycja':['poważny','propozycja'],\n",
    " 'dziś': ['dziś'],\n",
    " 'teraz': ['teraz']}"
   ]
  },
  {
   "cell_type": "code",
   "execution_count": 341,
   "metadata": {},
   "outputs": [],
   "source": [
    "import feature_engineering.feature_extractor\n",
    "import importlib\n",
    "importlib.reload(feature_engineering.feature_extractor)\n",
    "from feature_engineering.feature_extractor import FeatureExtractor"
   ]
  },
  {
   "cell_type": "code",
   "execution_count": 263,
   "metadata": {},
   "outputs": [],
   "source": [
    "fe = FeatureExtractor(df_negative_preprocessed)\n",
    "fe.feature_engineering('text', terms_dict=fe_dict)"
   ]
  },
  {
   "cell_type": "code",
   "execution_count": 265,
   "metadata": {},
   "outputs": [],
   "source": [
    "postprocessor = Preprocessor(fe.df, '../data/stop_words_polish.txt')"
   ]
  },
  {
   "cell_type": "code",
   "execution_count": 268,
   "metadata": {},
   "outputs": [],
   "source": [
    "postprocessor.postprocess_data('text')\n",
    "df_negative_postprocessed = postprocessor.df"
   ]
  },
  {
   "cell_type": "code",
   "execution_count": 270,
   "metadata": {},
   "outputs": [],
   "source": [
    "fe = FeatureExtractor(df_negative_postprocessed)\n",
    "fe.feature_engineering('text', fe_dict, postprocessed=True)"
   ]
  },
  {
   "cell_type": "code",
   "execution_count": null,
   "metadata": {},
   "outputs": [],
   "source": [
    "### END PIPELINE"
   ]
  },
  {
   "cell_type": "code",
   "execution_count": 288,
   "metadata": {},
   "outputs": [],
   "source": [
    "df_model = fe.df.copy()"
   ]
  },
  {
   "cell_type": "code",
   "execution_count": 332,
   "metadata": {},
   "outputs": [],
   "source": [
    "#modeling"
   ]
  },
  {
   "cell_type": "code",
   "execution_count": 354,
   "metadata": {},
   "outputs": [],
   "source": [
    "import numpy as np\n",
    "import pandas as pd\n",
    "import sys\n",
    "import re\n",
    "sys.path.append('..')\n",
    "import preprocessing.preprocessor\n",
    "import importlib\n",
    "importlib.reload(preprocessing.preprocessor)\n",
    "from preprocessing.preprocessor import Preprocessor"
   ]
  },
  {
   "cell_type": "code",
   "execution_count": 355,
   "metadata": {},
   "outputs": [],
   "source": [
    "import feature_engineering.feature_extractor\n",
    "import importlib\n",
    "importlib.reload(feature_engineering.feature_extractor)\n",
    "from feature_engineering.feature_extractor import FeatureExtractor"
   ]
  },
  {
   "cell_type": "code",
   "execution_count": 395,
   "metadata": {},
   "outputs": [],
   "source": [
    "import modeling.model\n",
    "import importlib\n",
    "importlib.reload(modeling.model)\n",
    "from modeling.model import Model"
   ]
  },
  {
   "cell_type": "code",
   "execution_count": 334,
   "metadata": {},
   "outputs": [],
   "source": [
    "df_model = pd.read_csv('../data/ready_DF.csv')"
   ]
  },
  {
   "cell_type": "code",
   "execution_count": 357,
   "metadata": {},
   "outputs": [],
   "source": [
    "import pipeline.pipeline\n",
    "import importlib\n",
    "importlib.reload(pipeline.pipeline)\n",
    "from pipeline.pipeline import Pipeline"
   ]
  },
  {
   "cell_type": "code",
   "execution_count": 358,
   "metadata": {},
   "outputs": [],
   "source": [
    "pipe = Pipeline()\n",
    "df_preprocessed = pipe.run(df_model, stopwords_file_path='../data/stop_words_polish.txt')"
   ]
  },
  {
   "cell_type": "code",
   "execution_count": 396,
   "metadata": {},
   "outputs": [],
   "source": [
    "from lightgbm import LGBMClassifier"
   ]
  },
  {
   "cell_type": "code",
   "execution_count": 397,
   "metadata": {},
   "outputs": [],
   "source": [
    "lgbm = LGBMClassifier()"
   ]
  },
  {
   "cell_type": "code",
   "execution_count": 398,
   "metadata": {},
   "outputs": [
    {
     "data": {
      "text/plain": [
       "Index(['desc', 'user_registration_date', 'post_creation', 'fake',\n",
       "       'exclamation_marks_count', 'upper_words_count',\n",
       "       'days_between_creation_and_post', 'sprzedac', 'kupic', 'konto',\n",
       "       'bankowy', 'bankowosc', 'zalozenie_konta', 'komornik', 'udostepnia',\n",
       "       'finanse', 'ryzyko', 'bezpieczny', 'przelew', 'procent', 'kwota',\n",
       "       'krypto', 'kryptowaluta', 'slupa', 'slup', 'tylko', 'szybko', 'zysk',\n",
       "       'dane', 'rozny_bank', 'prowizja', 'otworzyc', 'zajecie_komornicze',\n",
       "       'oferta_ograniczona', 'zakladane_w_oddziale', 'brak_blokad',\n",
       "       'brak_limitu', 'dokumenty_bankowe', 'umowa', 'karta', 'sim', 'kaucja',\n",
       "       'opłata', 'skan_dowodu', 'dluga_wspolpraca', 'zbudowac_zaufanie',\n",
       "       'gwarancja', 'legalny', 'pożyczka', 'powazna_propozycja', 'dziś',\n",
       "       'teraz', 'text_length'],\n",
       "      dtype='object')"
      ]
     },
     "execution_count": 398,
     "metadata": {},
     "output_type": "execute_result"
    }
   ],
   "source": [
    "df_preprocessed.columns"
   ]
  },
  {
   "cell_type": "code",
   "execution_count": 399,
   "metadata": {},
   "outputs": [],
   "source": [
    "model = Model(df_preprocessed.drop(['desc', 'user_registration_date', 'post_creation'], axis=1), 'fake', lgbm, 0.2)"
   ]
  },
  {
   "cell_type": "code",
   "execution_count": 400,
   "metadata": {},
   "outputs": [],
   "source": [
    "model.fit_model()"
   ]
  },
  {
   "cell_type": "code",
   "execution_count": 401,
   "metadata": {},
   "outputs": [
    {
     "data": {
      "text/plain": [
       "(0.9666666666666666, 0.9428571428571428)"
      ]
     },
     "execution_count": 401,
     "metadata": {},
     "output_type": "execute_result"
    }
   ],
   "source": [
    "model.evaluate()"
   ]
  },
  {
   "cell_type": "code",
   "execution_count": 403,
   "metadata": {},
   "outputs": [
    {
     "data": {
      "text/plain": [
       "fake\n",
       "1    146\n",
       "0     25\n",
       "Name: count, dtype: int64"
      ]
     },
     "execution_count": 403,
     "metadata": {},
     "output_type": "execute_result"
    }
   ],
   "source": [
    "df_model['fake'].value_counts()"
   ]
  },
  {
   "cell_type": "code",
   "execution_count": 405,
   "metadata": {},
   "outputs": [],
   "source": [
    "import pickle\n",
    "\n",
    "with open(\"model_baseline.pkl\", \"wb\") as file:\n",
    "    pickle.dump(model, file)"
   ]
  },
  {
   "cell_type": "code",
   "execution_count": null,
   "metadata": {},
   "outputs": [],
   "source": []
  }
 ],
 "metadata": {
  "kernelspec": {
   "display_name": "venv",
   "language": "python",
   "name": "python3"
  },
  "language_info": {
   "codemirror_mode": {
    "name": "ipython",
    "version": 3
   },
   "file_extension": ".py",
   "mimetype": "text/x-python",
   "name": "python",
   "nbconvert_exporter": "python",
   "pygments_lexer": "ipython3",
   "version": "3.10.10"
  },
  "orig_nbformat": 4
 },
 "nbformat": 4,
 "nbformat_minor": 2
}
