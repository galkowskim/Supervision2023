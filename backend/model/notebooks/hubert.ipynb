{
 "cells": [
  {
   "cell_type": "code",
   "execution_count": 1,
   "metadata": {},
   "outputs": [],
   "source": [
    "import sys\n",
    "sys.path.append('..')\n",
    "from preprocessing.preprocessor import Preprocessor"
   ]
  },
  {
   "cell_type": "code",
   "execution_count": 2,
   "metadata": {},
   "outputs": [],
   "source": [
    "import pandas as pd"
   ]
  },
  {
   "cell_type": "code",
   "execution_count": 3,
   "metadata": {},
   "outputs": [],
   "source": [
    "df = pd.read_csv('../../../data/ready_DF.csv')"
   ]
  },
  {
   "cell_type": "code",
   "execution_count": 4,
   "metadata": {},
   "outputs": [
    {
     "data": {
      "text/html": [
       "<div>\n",
       "<style scoped>\n",
       "    .dataframe tbody tr th:only-of-type {\n",
       "        vertical-align: middle;\n",
       "    }\n",
       "\n",
       "    .dataframe tbody tr th {\n",
       "        vertical-align: top;\n",
       "    }\n",
       "\n",
       "    .dataframe thead th {\n",
       "        text-align: right;\n",
       "    }\n",
       "</style>\n",
       "<table border=\"1\" class=\"dataframe\">\n",
       "  <thead>\n",
       "    <tr style=\"text-align: right;\">\n",
       "      <th></th>\n",
       "      <th>desc</th>\n",
       "      <th>fake</th>\n",
       "      <th>user_registration_date</th>\n",
       "      <th>post_creation</th>\n",
       "    </tr>\n",
       "  </thead>\n",
       "  <tbody>\n",
       "    <tr>\n",
       "      <th>0</th>\n",
       "      <td>Szukamy osób zainteresowanych pracą zdalną, kt...</td>\n",
       "      <td>1</td>\n",
       "      <td>2023-05-16</td>\n",
       "      <td>2022-10-01</td>\n",
       "    </tr>\n",
       "    <tr>\n",
       "      <th>1</th>\n",
       "      <td>Jesteśmy wiodącą firmą o światowym zasięgu, p...</td>\n",
       "      <td>1</td>\n",
       "      <td>2023-02-27</td>\n",
       "      <td>2022-11-17</td>\n",
       "    </tr>\n",
       "    <tr>\n",
       "      <th>2</th>\n",
       "      <td>Z przykrością informujemy, że w związku z zaj...</td>\n",
       "      <td>1</td>\n",
       "      <td>2023-05-18</td>\n",
       "      <td>2022-12-20</td>\n",
       "    </tr>\n",
       "    <tr>\n",
       "      <th>3</th>\n",
       "      <td>Masz dosyć wysokich oprocentowań na swojej ob...</td>\n",
       "      <td>1</td>\n",
       "      <td>2023-02-07</td>\n",
       "      <td>2023-02-04</td>\n",
       "    </tr>\n",
       "    <tr>\n",
       "      <th>4</th>\n",
       "      <td>Sprzedam zupełnie nowy smartfon marki XYZ w n...</td>\n",
       "      <td>1</td>\n",
       "      <td>2022-06-20</td>\n",
       "      <td>2023-02-18</td>\n",
       "    </tr>\n",
       "    <tr>\n",
       "      <th>...</th>\n",
       "      <td>...</td>\n",
       "      <td>...</td>\n",
       "      <td>...</td>\n",
       "      <td>...</td>\n",
       "    </tr>\n",
       "    <tr>\n",
       "      <th>166</th>\n",
       "      <td>Prywatne\\n Stan: Używane\\n Marka: Kellys\\n Mat...</td>\n",
       "      <td>0</td>\n",
       "      <td>2022-01-14</td>\n",
       "      <td>2021-11-29</td>\n",
       "    </tr>\n",
       "    <tr>\n",
       "      <th>167</th>\n",
       "      <td>Prywatne\\n Stan: Używane\\n OPIS\\n Koła– 12 cal...</td>\n",
       "      <td>0</td>\n",
       "      <td>2019-10-23</td>\n",
       "      <td>2017-06-19</td>\n",
       "    </tr>\n",
       "    <tr>\n",
       "      <th>168</th>\n",
       "      <td>Firmowe\\n Wbudowana pamięć: 256GB\\n Stan: Używ...</td>\n",
       "      <td>0</td>\n",
       "      <td>2022-08-10</td>\n",
       "      <td>2020-04-16</td>\n",
       "    </tr>\n",
       "    <tr>\n",
       "      <th>169</th>\n",
       "      <td>Prywatne\\n Rok produkcji: 2000\\n OPIS\\n Sprzed...</td>\n",
       "      <td>0</td>\n",
       "      <td>2018-09-20</td>\n",
       "      <td>2018-08-09</td>\n",
       "    </tr>\n",
       "    <tr>\n",
       "      <th>170</th>\n",
       "      <td>Firmowe\\n Rok produkcji: 2022\\n OPIS\\n Kosiark...</td>\n",
       "      <td>0</td>\n",
       "      <td>2021-06-26</td>\n",
       "      <td>2018-11-14</td>\n",
       "    </tr>\n",
       "  </tbody>\n",
       "</table>\n",
       "<p>171 rows × 4 columns</p>\n",
       "</div>"
      ],
      "text/plain": [
       "                                                  desc  fake   \n",
       "0    Szukamy osób zainteresowanych pracą zdalną, kt...     1  \\\n",
       "1     Jesteśmy wiodącą firmą o światowym zasięgu, p...     1   \n",
       "2     Z przykrością informujemy, że w związku z zaj...     1   \n",
       "3     Masz dosyć wysokich oprocentowań na swojej ob...     1   \n",
       "4     Sprzedam zupełnie nowy smartfon marki XYZ w n...     1   \n",
       "..                                                 ...   ...   \n",
       "166  Prywatne\\n Stan: Używane\\n Marka: Kellys\\n Mat...     0   \n",
       "167  Prywatne\\n Stan: Używane\\n OPIS\\n Koła– 12 cal...     0   \n",
       "168  Firmowe\\n Wbudowana pamięć: 256GB\\n Stan: Używ...     0   \n",
       "169  Prywatne\\n Rok produkcji: 2000\\n OPIS\\n Sprzed...     0   \n",
       "170  Firmowe\\n Rok produkcji: 2022\\n OPIS\\n Kosiark...     0   \n",
       "\n",
       "    user_registration_date post_creation  \n",
       "0               2023-05-16    2022-10-01  \n",
       "1               2023-02-27    2022-11-17  \n",
       "2               2023-05-18    2022-12-20  \n",
       "3               2023-02-07    2023-02-04  \n",
       "4               2022-06-20    2023-02-18  \n",
       "..                     ...           ...  \n",
       "166             2022-01-14    2021-11-29  \n",
       "167             2019-10-23    2017-06-19  \n",
       "168             2022-08-10    2020-04-16  \n",
       "169             2018-09-20    2018-08-09  \n",
       "170             2021-06-26    2018-11-14  \n",
       "\n",
       "[171 rows x 4 columns]"
      ]
     },
     "execution_count": 4,
     "metadata": {},
     "output_type": "execute_result"
    }
   ],
   "source": [
    "df"
   ]
  },
  {
   "cell_type": "code",
   "execution_count": 5,
   "metadata": {},
   "outputs": [],
   "source": [
    "preprocessor = Preprocessor(df, '../../../data/stop_words_polish.txt')"
   ]
  },
  {
   "cell_type": "code",
   "execution_count": 6,
   "metadata": {},
   "outputs": [],
   "source": [
    "preprocessor.preprocess_data('desc', 'user_registration_date', 'post_creation')\n",
    "df_preprocessed = preprocessor.df"
   ]
  },
  {
   "cell_type": "code",
   "execution_count": 7,
   "metadata": {},
   "outputs": [],
   "source": [
    "fe_dict = {'sprzedac': ['sprzedać'],\n",
    "           'kupic': ['kupić'],\n",
    "           'konto': ['konto'],\n",
    "           'bankowy': ['bankowy'],\n",
    "           'bankowosc': ['bankowość'],\n",
    "           'zalozenie_konta': ['zapłaca', 'założeć'],\n",
    "           'komornik': ['komornik'],\n",
    "           'udostepnia': ['udostępnia'],\n",
    "           'finanse': ['finanse'],\n",
    "           'ryzyko': ['ryzyko'],\n",
    "           'bezpieczny': ['bezpieczny'],\n",
    "           'przelew': ['przelew'],\n",
    "           'procent': ['procent'],\n",
    "           'kwota': ['kwota'],\n",
    "           'krypto': ['krypto'],\n",
    "           'kryptowaluta': ['kryptowaluta'],\n",
    "           'slupa': ['słupa'],\n",
    "           'slup': ['słup'],\n",
    "           'tylko': ['tylko'],\n",
    "           'szybko': ['szybko'],\n",
    "           'zysk': ['zysk'],\n",
    "           'przelew': ['przelew'],\n",
    "           'dane': ['dane'],\n",
    "           'rozny_bank': ['różny', 'bank'],\n",
    "           'prowizja': ['prowizja'],\n",
    "           'otworzyc': ['otworzyć'],\n",
    "           'zajecie_komornicze': ['zajęć', 'komornicz'],\n",
    "           'oferta_ograniczona': ['oferta', 'ograniczyć'],\n",
    "           'zakladane_w_oddziale': ['zakładać', 'oddział'],\n",
    "           'brak_blokad': ['brak', 'blokad'],\n",
    "           'brak_limitu': ['limit'],\n",
    "           'dokumenty_bankowe': ['dokument', 'bank'],\n",
    "           'umowa': ['umowa'],\n",
    "           'karta': 'karta',\n",
    "           'sim': ['sim'],\n",
    "           'kaucja': ['kaucja'],\n",
    "           'opłata': ['opłata'],\n",
    "           'skan_dowodu': ['skan', 'dowód'],\n",
    "           'dluga_wspolpraca': ['długi', 'współpraca'],\n",
    "           'zbudowac_zaufanie': ['zbudować', 'zaufanie'],\n",
    "           'gwarancja': ['gwarancja'],\n",
    "           'legalny': ['legalny'],\n",
    "           'pożyczka': ['pożyczka'],\n",
    "           'powazna_propozycja': ['poważny', 'propozycja'],\n",
    "           'dziś': ['dziś'],\n",
    "           'teraz': ['teraz']}"
   ]
  },
  {
   "cell_type": "code",
   "execution_count": 8,
   "metadata": {},
   "outputs": [],
   "source": [
    "import feature_engineering.feature_extractor\n",
    "import importlib\n",
    "from feature_engineering.feature_extractor import FeatureExtractor"
   ]
  },
  {
   "cell_type": "code",
   "execution_count": 11,
   "metadata": {},
   "outputs": [
    {
     "data": {
      "text/plain": [
       "Index(['desc', 'fake', 'user_registration_date', 'post_creation'], dtype='object')"
      ]
     },
     "execution_count": 11,
     "metadata": {},
     "output_type": "execute_result"
    }
   ],
   "source": [
    "df.columns"
   ]
  },
  {
   "cell_type": "code",
   "execution_count": 13,
   "metadata": {},
   "outputs": [],
   "source": [
    "fe = FeatureExtractor(df_preprocessed)\n",
    "fe.feature_engineering('desc', fe_dict, 'user_registration_date', 'post_creation')"
   ]
  },
  {
   "cell_type": "code",
   "execution_count": 17,
   "metadata": {},
   "outputs": [],
   "source": [
    "postprocessor = Preprocessor(fe.df, '../../../data/stop_words_polish.txt')\n",
    "postprocessor.postprocess_data('desc')\n",
    "df_preprocessed = postprocessor.df"
   ]
  },
  {
   "cell_type": "code",
   "execution_count": 19,
   "metadata": {},
   "outputs": [],
   "source": [
    "fe = FeatureExtractor(df_preprocessed)\n",
    "fe.feature_engineering('desc', fe_dict, 'user_registration_date', 'post_creation', postprocessed=True)"
   ]
  },
  {
   "cell_type": "code",
   "execution_count": 22,
   "metadata": {},
   "outputs": [],
   "source": [
    "df = fe.df"
   ]
  },
  {
   "cell_type": "code",
   "execution_count": 24,
   "metadata": {},
   "outputs": [],
   "source": [
    "X = df.drop(['desc', 'user_registration_date', 'post_creation'], axis=1)\n",
    "y = df['fake']"
   ]
  },
  {
   "cell_type": "code",
   "execution_count": 25,
   "metadata": {},
   "outputs": [
    {
     "data": {
      "text/html": [
       "<style>#sk-container-id-1 {color: black;background-color: white;}#sk-container-id-1 pre{padding: 0;}#sk-container-id-1 div.sk-toggleable {background-color: white;}#sk-container-id-1 label.sk-toggleable__label {cursor: pointer;display: block;width: 100%;margin-bottom: 0;padding: 0.3em;box-sizing: border-box;text-align: center;}#sk-container-id-1 label.sk-toggleable__label-arrow:before {content: \"▸\";float: left;margin-right: 0.25em;color: #696969;}#sk-container-id-1 label.sk-toggleable__label-arrow:hover:before {color: black;}#sk-container-id-1 div.sk-estimator:hover label.sk-toggleable__label-arrow:before {color: black;}#sk-container-id-1 div.sk-toggleable__content {max-height: 0;max-width: 0;overflow: hidden;text-align: left;background-color: #f0f8ff;}#sk-container-id-1 div.sk-toggleable__content pre {margin: 0.2em;color: black;border-radius: 0.25em;background-color: #f0f8ff;}#sk-container-id-1 input.sk-toggleable__control:checked~div.sk-toggleable__content {max-height: 200px;max-width: 100%;overflow: auto;}#sk-container-id-1 input.sk-toggleable__control:checked~label.sk-toggleable__label-arrow:before {content: \"▾\";}#sk-container-id-1 div.sk-estimator input.sk-toggleable__control:checked~label.sk-toggleable__label {background-color: #d4ebff;}#sk-container-id-1 div.sk-label input.sk-toggleable__control:checked~label.sk-toggleable__label {background-color: #d4ebff;}#sk-container-id-1 input.sk-hidden--visually {border: 0;clip: rect(1px 1px 1px 1px);clip: rect(1px, 1px, 1px, 1px);height: 1px;margin: -1px;overflow: hidden;padding: 0;position: absolute;width: 1px;}#sk-container-id-1 div.sk-estimator {font-family: monospace;background-color: #f0f8ff;border: 1px dotted black;border-radius: 0.25em;box-sizing: border-box;margin-bottom: 0.5em;}#sk-container-id-1 div.sk-estimator:hover {background-color: #d4ebff;}#sk-container-id-1 div.sk-parallel-item::after {content: \"\";width: 100%;border-bottom: 1px solid gray;flex-grow: 1;}#sk-container-id-1 div.sk-label:hover label.sk-toggleable__label {background-color: #d4ebff;}#sk-container-id-1 div.sk-serial::before {content: \"\";position: absolute;border-left: 1px solid gray;box-sizing: border-box;top: 0;bottom: 0;left: 50%;z-index: 0;}#sk-container-id-1 div.sk-serial {display: flex;flex-direction: column;align-items: center;background-color: white;padding-right: 0.2em;padding-left: 0.2em;position: relative;}#sk-container-id-1 div.sk-item {position: relative;z-index: 1;}#sk-container-id-1 div.sk-parallel {display: flex;align-items: stretch;justify-content: center;background-color: white;position: relative;}#sk-container-id-1 div.sk-item::before, #sk-container-id-1 div.sk-parallel-item::before {content: \"\";position: absolute;border-left: 1px solid gray;box-sizing: border-box;top: 0;bottom: 0;left: 50%;z-index: -1;}#sk-container-id-1 div.sk-parallel-item {display: flex;flex-direction: column;z-index: 1;position: relative;background-color: white;}#sk-container-id-1 div.sk-parallel-item:first-child::after {align-self: flex-end;width: 50%;}#sk-container-id-1 div.sk-parallel-item:last-child::after {align-self: flex-start;width: 50%;}#sk-container-id-1 div.sk-parallel-item:only-child::after {width: 0;}#sk-container-id-1 div.sk-dashed-wrapped {border: 1px dashed gray;margin: 0 0.4em 0.5em 0.4em;box-sizing: border-box;padding-bottom: 0.4em;background-color: white;}#sk-container-id-1 div.sk-label label {font-family: monospace;font-weight: bold;display: inline-block;line-height: 1.2em;}#sk-container-id-1 div.sk-label-container {text-align: center;}#sk-container-id-1 div.sk-container {/* jupyter's `normalize.less` sets `[hidden] { display: none; }` but bootstrap.min.css set `[hidden] { display: none !important; }` so we also need the `!important` here to be able to override the default hidden behavior on the sphinx rendered scikit-learn.org. See: https://github.com/scikit-learn/scikit-learn/issues/21755 */display: inline-block !important;position: relative;}#sk-container-id-1 div.sk-text-repr-fallback {display: none;}</style><div id=\"sk-container-id-1\" class=\"sk-top-container\"><div class=\"sk-text-repr-fallback\"><pre>DecisionTreeClassifier()</pre><b>In a Jupyter environment, please rerun this cell to show the HTML representation or trust the notebook. <br />On GitHub, the HTML representation is unable to render, please try loading this page with nbviewer.org.</b></div><div class=\"sk-container\" hidden><div class=\"sk-item\"><div class=\"sk-estimator sk-toggleable\"><input class=\"sk-toggleable__control sk-hidden--visually\" id=\"sk-estimator-id-1\" type=\"checkbox\" checked><label for=\"sk-estimator-id-1\" class=\"sk-toggleable__label sk-toggleable__label-arrow\">DecisionTreeClassifier</label><div class=\"sk-toggleable__content\"><pre>DecisionTreeClassifier()</pre></div></div></div></div></div>"
      ],
      "text/plain": [
       "DecisionTreeClassifier()"
      ]
     },
     "execution_count": 25,
     "metadata": {},
     "output_type": "execute_result"
    }
   ],
   "source": [
    "from sklearn.tree import DecisionTreeClassifier\n",
    "dt = DecisionTreeClassifier()\n",
    "dt.fit(X, y)"
   ]
  },
  {
   "cell_type": "code",
   "execution_count": 26,
   "metadata": {},
   "outputs": [],
   "source": [
    "import pickle\n",
    "pickle.dump(dt, open('../../../data/model.pkl', 'wb'))"
   ]
  },
  {
   "cell_type": "code",
   "execution_count": 4,
   "metadata": {},
   "outputs": [],
   "source": [
    "import sys\n",
    "sys.path.append('..')\n",
    "from pipeline.pipeline import Pipeline"
   ]
  },
  {
   "cell_type": "code",
   "execution_count": null,
   "metadata": {},
   "outputs": [],
   "source": [
    "Pipeline.run(df)"
   ]
  }
 ],
 "metadata": {
  "kernelspec": {
   "display_name": "venv",
   "language": "python",
   "name": "python3"
  },
  "language_info": {
   "codemirror_mode": {
    "name": "ipython",
    "version": 3
   },
   "file_extension": ".py",
   "mimetype": "text/x-python",
   "name": "python",
   "nbconvert_exporter": "python",
   "pygments_lexer": "ipython3",
   "version": "3.10.11"
  },
  "orig_nbformat": 4
 },
 "nbformat": 4,
 "nbformat_minor": 2
}
